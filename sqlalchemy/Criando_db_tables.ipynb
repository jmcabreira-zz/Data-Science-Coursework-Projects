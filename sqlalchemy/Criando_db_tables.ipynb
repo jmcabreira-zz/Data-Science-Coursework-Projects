{
 "cells": [
  {
   "cell_type": "code",
   "execution_count": 231,
   "metadata": {},
   "outputs": [],
   "source": [
    "import pandas as pd\n",
    "import sqlalchemy\n",
    "from sqlalchemy import (create_engine, MetaData,Column, Table, Integer, String,DateTime)\n",
    "from datetime import datetime"
   ]
  },
  {
   "cell_type": "code",
   "execution_count": 232,
   "metadata": {},
   "outputs": [],
   "source": [
    "#!pip install pymysql"
   ]
  },
  {
   "cell_type": "markdown",
   "metadata": {},
   "source": [
    "### Engine de Conexao ao Banco dec Dados MySQL"
   ]
  },
  {
   "cell_type": "markdown",
   "metadata": {},
   "source": [
    "### Sintaxe:\n",
    "\n",
    "#### engine = sqlalchemy.create_engine('sqlite:///db_name.db',  echo = False) \n",
    "\n",
    "\n",
    "### Documentação do SQLAlchemy:"
   ]
  },
  {
   "cell_type": "code",
   "execution_count": 233,
   "metadata": {},
   "outputs": [],
   "source": [
    "engine = sqlalchemy.create_engine('sqlite:///gas.db',\n",
    "                                 echo = False) "
   ]
  },
  {
   "cell_type": "code",
   "execution_count": 234,
   "metadata": {},
   "outputs": [],
   "source": [
    "metadata = MetaData(bind = engine)"
   ]
  },
  {
   "cell_type": "code",
   "execution_count": 235,
   "metadata": {
    "scrolled": true
   },
   "outputs": [],
   "source": [
    "TB_CADASTRO  = Table('TB_CADASTRO', metadata,\n",
    "                           Column('id_cliente', Integer, primary_key = True),\n",
    "                           Column('classe_consumo', String(40), index = True),\n",
    "                           Column('Estado', String(40),index = True),\n",
    "                           Column('Cidade', String(40), index = True),\n",
    "                           Column('date_file',DateTime, default = datetime.now))\n",
    "                           "
   ]
  },
  {
   "cell_type": "code",
   "execution_count": 236,
   "metadata": {},
   "outputs": [],
   "source": [
    "# Create Table\n",
    "metadata.create_all()"
   ]
  },
  {
   "cell_type": "code",
   "execution_count": 237,
   "metadata": {},
   "outputs": [],
   "source": [
    "conn = engine.connect()"
   ]
  },
  {
   "cell_type": "code",
   "execution_count": 238,
   "metadata": {},
   "outputs": [
    {
     "data": {
      "text/plain": [
       "<sqlalchemy.engine.result.ResultProxy at 0x7ff6efadac88>"
      ]
     },
     "execution_count": 238,
     "metadata": {},
     "output_type": "execute_result"
    }
   ],
   "source": [
    "# Insert Data\n",
    "ins = TB_CADASTRO.insert()\n",
    "\n",
    "new_data = ins.values(\n",
    "                      classe_consumo = 'Residencial',\n",
    "                      Estado ='A',\n",
    "                      Cidade = 'A1')\n",
    "\n",
    "conn.execute(new_data)"
   ]
  },
  {
   "cell_type": "code",
   "execution_count": 239,
   "metadata": {},
   "outputs": [
    {
     "data": {
      "text/plain": [
       "<sqlalchemy.engine.result.ResultProxy at 0x7ff6ef7963c8>"
      ]
     },
     "execution_count": 239,
     "metadata": {},
     "output_type": "execute_result"
    }
   ],
   "source": [
    "conn.execute(TB_CADASTRO.insert(), [\n",
    "    \n",
    "    { 'classe_consumo': 'comercial', 'Estado': 'B','Cidade': 'B1'},\n",
    "    { 'classe_consumo': 'residencial', 'Estado': 'B','Cidade': 'B2'},\n",
    "    { 'classe_consumo': 'comercial', 'Estado': 'C','Cidade': 'C1' },\n",
    "    { 'classe_consumo': 'residencial', 'Estado': 'D','Cidade': 'D1' },\n",
    "    { 'classe_consumo': 'comercial', 'Estado': 'B','Cidade': 'B1' }\n",
    "    \n",
    "    \n",
    "])"
   ]
  },
  {
   "cell_type": "markdown",
   "metadata": {},
   "source": [
    "# Select"
   ]
  },
  {
   "cell_type": "code",
   "execution_count": 240,
   "metadata": {},
   "outputs": [],
   "source": [
    "from sqlalchemy import select\n",
    "select = select([TB_CADASTRO])"
   ]
  },
  {
   "cell_type": "code",
   "execution_count": 241,
   "metadata": {},
   "outputs": [
    {
     "name": "stdout",
     "output_type": "stream",
     "text": [
      "(1, 'Residencial', 'A', 'A1', datetime.datetime(2020, 7, 17, 15, 52, 13, 532666))\n",
      "(2, 'comercial', 'B', 'B1', datetime.datetime(2020, 7, 17, 15, 52, 13, 712547))\n",
      "(3, 'residencial', 'B', 'B2', datetime.datetime(2020, 7, 17, 15, 52, 13, 712555))\n",
      "(4, 'comercial', 'C', 'C1', datetime.datetime(2020, 7, 17, 15, 52, 13, 712557))\n",
      "(5, 'residencial', 'D', 'D1', datetime.datetime(2020, 7, 17, 15, 52, 13, 712560))\n",
      "(6, 'comercial', 'B', 'B1', datetime.datetime(2020, 7, 17, 15, 52, 13, 712562))\n"
     ]
    }
   ],
   "source": [
    "for row in select.execute():\n",
    "    print(row)"
   ]
  },
  {
   "cell_type": "markdown",
   "metadata": {},
   "source": [
    "# Update"
   ]
  },
  {
   "cell_type": "code",
   "execution_count": 242,
   "metadata": {},
   "outputs": [],
   "source": [
    "from sqlalchemy import update \n"
   ]
  },
  {
   "cell_type": "code",
   "execution_count": 243,
   "metadata": {},
   "outputs": [],
   "source": [
    "conn = engine.connect()"
   ]
  },
  {
   "cell_type": "code",
   "execution_count": 244,
   "metadata": {},
   "outputs": [],
   "source": [
    "update = update(TB_CADASTRO).where(TB_CADASTRO.c.classe_consumo == 'Residencial')\n",
    "\n",
    "update = update.values(classe_consumo ='residencial')\n",
    "\n",
    "result = conn.execute(update)\n"
   ]
  },
  {
   "cell_type": "code",
   "execution_count": 245,
   "metadata": {},
   "outputs": [
    {
     "name": "stdout",
     "output_type": "stream",
     "text": [
      "(1, 'residencial', 'A', 'A1', datetime.datetime(2020, 7, 17, 15, 52, 13, 532666))\n",
      "(2, 'comercial', 'B', 'B1', datetime.datetime(2020, 7, 17, 15, 52, 13, 712547))\n",
      "(3, 'residencial', 'B', 'B2', datetime.datetime(2020, 7, 17, 15, 52, 13, 712555))\n",
      "(4, 'comercial', 'C', 'C1', datetime.datetime(2020, 7, 17, 15, 52, 13, 712557))\n",
      "(5, 'residencial', 'D', 'D1', datetime.datetime(2020, 7, 17, 15, 52, 13, 712560))\n",
      "(6, 'comercial', 'B', 'B1', datetime.datetime(2020, 7, 17, 15, 52, 13, 712562))\n"
     ]
    }
   ],
   "source": [
    "for row in select.execute():\n",
    "    print(row)"
   ]
  },
  {
   "cell_type": "markdown",
   "metadata": {},
   "source": [
    "# Table 2"
   ]
  },
  {
   "cell_type": "code",
   "execution_count": 246,
   "metadata": {},
   "outputs": [],
   "source": [
    "TB_FATURAMENTO  = Table('TB_FATURAMENTO', metadata,\n",
    "                           Column('id_cliente', Integer, primary_key = True),\n",
    "                           Column('data_faturamento', String(6)),\n",
    "                           Column('Consumo_kwh', Integer, nullable = False),\n",
    "                           Column('date_file',DateTime, default = datetime.now))\n",
    "                       "
   ]
  },
  {
   "cell_type": "code",
   "execution_count": 247,
   "metadata": {},
   "outputs": [],
   "source": [
    "# Create Table\n",
    "metadata.create_all()"
   ]
  },
  {
   "cell_type": "code",
   "execution_count": 248,
   "metadata": {},
   "outputs": [],
   "source": [
    "conn = engine.connect()"
   ]
  },
  {
   "cell_type": "code",
   "execution_count": 249,
   "metadata": {},
   "outputs": [
    {
     "data": {
      "text/plain": [
       "<sqlalchemy.engine.result.ResultProxy at 0x7ff6ef45f8d0>"
      ]
     },
     "execution_count": 249,
     "metadata": {},
     "output_type": "execute_result"
    }
   ],
   "source": [
    "# Insert Data\n",
    "ins2 = TB_FATURAMENTO.insert()\n",
    "\n",
    "new_data = ins2.values(\n",
    "                      data_faturamento = '2020-01', \n",
    "                      Consumo_kwh = 50000 )\n",
    "\n",
    "conn.execute(new_data)"
   ]
  },
  {
   "cell_type": "code",
   "execution_count": 250,
   "metadata": {},
   "outputs": [
    {
     "data": {
      "text/plain": [
       "<sqlalchemy.engine.result.ResultProxy at 0x7ff6ef45f9e8>"
      ]
     },
     "execution_count": 250,
     "metadata": {},
     "output_type": "execute_result"
    }
   ],
   "source": [
    "conn.execute(TB_FATURAMENTO.insert(), [\n",
    "    \n",
    "    { 'data_faturamento': '2020-01', 'Consumo_kwh': 1000,},\n",
    "    { 'data_faturamento': '2020-01', 'Consumo_kwh': 50000 },\n",
    "    { 'data_faturamento': '2020-01', 'Consumo_kwh':  1005000 },\n",
    "    { 'data_faturamento': '2020-01', 'Consumo_kwh': 88999},\n",
    "    { 'data_faturamento': '2020-01', 'Consumo_kwh': 150000 }\n",
    "    \n",
    "])"
   ]
  },
  {
   "cell_type": "markdown",
   "metadata": {},
   "source": [
    "# Select"
   ]
  },
  {
   "cell_type": "code",
   "execution_count": 251,
   "metadata": {},
   "outputs": [],
   "source": [
    "from sqlalchemy import select\n",
    "select = select([TB_FATURAMENTO])"
   ]
  },
  {
   "cell_type": "code",
   "execution_count": 252,
   "metadata": {},
   "outputs": [
    {
     "name": "stdout",
     "output_type": "stream",
     "text": [
      "(1, '2020-01', 50000, datetime.datetime(2020, 7, 17, 15, 52, 17, 411751))\n",
      "(2, '2020-01', 1000, datetime.datetime(2020, 7, 17, 15, 52, 17, 944218))\n",
      "(3, '2020-01', 50000, datetime.datetime(2020, 7, 17, 15, 52, 17, 944225))\n",
      "(4, '2020-01', 1005000, datetime.datetime(2020, 7, 17, 15, 52, 17, 944228))\n",
      "(5, '2020-01', 88999, datetime.datetime(2020, 7, 17, 15, 52, 17, 944230))\n",
      "(6, '2020-01', 150000, datetime.datetime(2020, 7, 17, 15, 52, 17, 944232))\n"
     ]
    }
   ],
   "source": [
    "for row in select.execute():\n",
    "    print(row)"
   ]
  }
 ],
 "metadata": {
  "kernelspec": {
   "display_name": "Python 3",
   "language": "python",
   "name": "python3"
  },
  "language_info": {
   "codemirror_mode": {
    "name": "ipython",
    "version": 3
   },
   "file_extension": ".py",
   "mimetype": "text/x-python",
   "name": "python",
   "nbconvert_exporter": "python",
   "pygments_lexer": "ipython3",
   "version": "3.7.3"
  }
 },
 "nbformat": 4,
 "nbformat_minor": 4
}
