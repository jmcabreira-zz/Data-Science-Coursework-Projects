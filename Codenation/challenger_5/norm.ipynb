{
 "cells": [
  {
   "cell_type": "markdown",
   "metadata": {},
   "source": [
    "# Devemos normalizar ou padronizar os dados quando aplicamos Principal Component Analysis (PCA) ?"
   ]
  },
  {
   "cell_type": "markdown",
   "metadata": {},
   "source": [
    "Essa é uma pergunta super comum que fazemos quando vamos aplicar PCA nos nossos dados. Para ter uma resposta bem respaldada, devemos analisar os fundamentos por trás do algoritmo. Vamos primeiramente entender o que é normalização e sua diferença para a padronização (standardzation). Em seguinda, iremos verificar as implicações gerada pelos processos nos nossos dados para então decidir se devemos ou não aplicar alguma dessas duas técnicas."
   ]
  },
  {
   "cell_type": "markdown",
   "metadata": {},
   "source": [
    "## Centralizar os dados"
   ]
  },
  {
   "cell_type": "markdown",
   "metadata": {},
   "source": [
    "Centralizar os dados é nada mais do que subtrair cada valor de uma determinada variável por uma constante - na maioria das vezes sua média. Essa técnica basicamente redefine o ponto zero da variável e é deterinado através do valor que é usado na subtração.\n",
    "\n",
    "Qando centralizamos as nossas variáveis através da subtração de cada valor pela sua média amostral , estamos na verdade realizando uma transformação de forma que essa feature tenha uma média igual a zero.\n",
    "\n",
    "Em outras palavras, podemos considerar essa transformação como a variação que a variável possui com relação a sua média.\n",
    "\n",
    "Para o nosso caso em particular, como estamos prestes a aplicar PCA nos nossos dados, é importante dizer que a aplicação desse procedimento envolve o cálculo da matriz de covariancia para determinar a similaridade ou correlação das nossas variáveis e depois determinar os auto-valores e auto-vetores dessa matriz para encontrarmos os principal components. Dessa forma, devemos ter em mente que o cálculo que envolve a determinação da matriz de covariancia conta com dados centralizados."
   ]
  },
  {
   "cell_type": "markdown",
   "metadata": {},
   "source": [
    "## Normalização dos dados"
   ]
  },
  {
   "cell_type": "markdown",
   "metadata": {},
   "source": [
    "O processo de normalização pode ser determinado de diferentes formas. Para a nossa análise, vamos considerar a normalização unitária que consiste em transformar os dados de forma em que os mesmos fiquem no intervalo [0-1] e é determinada pela fórmula abaixo."
   ]
  },
  {
   "cell_type": "markdown",
   "metadata": {},
   "source": [
    "\\begin{equation*}\n",
    "Xnorm = \n",
    "\\frac{X - Xmin}{Xmax - Xmin} \n",
    "\\end{equation*}"
   ]
  },
  {
   "cell_type": "markdown",
   "metadata": {},
   "source": [
    "Para entender a importância da normalização vamos considerar duas caracteristicas: magnitude e unidade. No caso do nosso dataset, temos a coluna Age que representa a idade do jogador (magnitude) e anos como unidade de medida. Supondo que exista uma coluna representando a altura do jogador. Nesse caso poderiamos determinar cada altura como a magnitude da variável e centímetros ou metros como unidade de medida. E porque essas informações são importantes?\n",
    "\n",
    "Alguns algoritmos de machine learning, como k-means e kNN fazem uso da distância euclidiana como parte de seu algoritmo. Dessa forma, features com magnitudes muito diferentes terão um grande impacto no modelo e podem afetar signicamente sua performance. Um outro exemplo é a regressão linear, cujo coeficientes são determinados com auxilio do algoritmo de gradient descent. Nesse caso, quanto maior a magnitude das variáveis, maiores as chances dos coeficientes inicializados randomicamente no algoritmo estarem muito distantes do minimo global. Dessa forma, a convergência pode demorar a acontecer ou até mesmo não acontecer.\n",
    "\n",
    "Quando colocamos as variáveis na mesma escala, evitamos problemas como os mencionados acima.\n",
    "\n",
    "Importante dizer que nem todo algoritmo de machine learning necessidade de dados normalizados. Como exemplo temos decision tree e random forest."
   ]
  },
  {
   "cell_type": "markdown",
   "metadata": {},
   "source": [
    "## Padronização"
   ]
  },
  {
   "cell_type": "markdown",
   "metadata": {},
   "source": [
    "A padronização ou standardization é uma técnica que faz com que os dados de uma determinada feature fiquem centralizadas em torno da média zero com desvio padrão igual a 1. Esse processo é calculado com a equação abaixo:"
   ]
  },
  {
   "cell_type": "markdown",
   "metadata": {},
   "source": [
    "\\begin{equation*}\n",
    "z = \n",
    "\\frac{x -  \\mu}{\\sigma} \n",
    "\\end{equation*}"
   ]
  },
  {
   "cell_type": "markdown",
   "metadata": {},
   "source": [
    "Assim como a normalização, a padronização faz com que features com diferentes magnitudes e unidades possuam igual importância para o modelo de machine learning. Por exemplo, imagine que uma variável possua unidade em Peso chileno e a outra em Real ( na cotação atual 1 peso equivale a 0.0065 real). A magnitude de cada coluna é signigicatiamente diferente e por conta disso a padronização se faz necessária. Caso contrário uma variável apresentará maior variância e consequentemente dominará o resultado. Quando padronizamos, estando fazendo com que as features possuam igual variabilidade e portanto igual importância.\n",
    "\n",
    "Note que no caso em que as unidades de medidas sejam as mesmas, talvez não seja necessário a normalização ou padronização dos dados pois a diferença na variabilidade dos dados nesse caso pode ter importância.\n",
    "\n",
    "A equação abaixo mostra o algoritmo de otimização (gradient descent) aplicado em muitos modelos de machine learning. Podemos notar que features com diferentes escalas podem afetar a performance da otimizaçao pois a variavel x possui uma grande significância no processo de atualização dos pesos."
   ]
  },
  {
   "cell_type": "markdown",
   "metadata": {},
   "source": [
    "\\begin{equation*}\n",
    "\\Delta w_j = \n",
    "\\eta  \\frac{\\partial J}{\\partial w_j} = \\eta \\sum_{n=i}(t^i - o^i) x^i_j\n",
    "\\end{equation*}"
   ]
  },
  {
   "cell_type": "markdown",
   "metadata": {},
   "source": [
    "## Padronizar ou Normalizar ?"
   ]
  },
  {
   "cell_type": "markdown",
   "metadata": {},
   "source": [
    "Bom, não temos uma resposta direta e definida para essa pergunta. De fato, isso depende muito da aplicaçao em que os dados serão utilizados. Quando estamos performando um algoritmo de clustering, pode ser interessante realizar uma padronização dos dados, pois o modelo consiste em comparar similaridade de variáveis baseado em medições de distancia. por outro lado, nos casos de redes neurais, uma normalização entre [0-1] pode ser adequado devido a natureza do processo de otimização dos parâmetros.\n",
    "\n",
    "A melhor escolha a se fazer quando está analisando a utilizaçao de uma dessas duas técnicas é entender o processo por trás do algorítmo em que os dados serão aplicados ou simplesmente testar cada um e ver qual performa melhor."
   ]
  },
  {
   "cell_type": "markdown",
   "metadata": {},
   "source": [
    "## Devo preprocessar meus dados antes de aplicar PCA ?"
   ]
  },
  {
   "cell_type": "markdown",
   "metadata": {},
   "source": [
    "Bom vamos primeiramente tentar sumarizar o algoritmo de PCA para tentar entender a possível necessidade de normalizar ou padronizar os dados. Com a finalidade de simplificar a explicação, vou simplesmente resumir o processo em duas principais etapas: matriz de covariância, calculo dos auto-valores e auto-vetores da matriz de covariância para identificação dos componentes.\n",
    "\n",
    "* Matriz de covariancia : O principal motivo de calcularmos essa matriz é entender como as features estão variando da média com relaçao umas as outras. Basicamente a informação principal que queremos saber é a relação entre as variáveis. Dessa forma, conseguimos estabelecer a correlação entre as mesmas e verificar se existe redundância no nosso data set. Algebricamente, a matriz consiste em ser simétrica nxn, sendo n o número de features. Cada elemento corresponde a correlação entre um par de variáveis.\n",
    "\n",
    "* Auto-valores e Auto-vetores: São computados diretamente da matriz de covariância com o objetivo de determinar os componentes principais dos dados. Estes por sua vez são variáveis advindas de combinações lineares das variáveis originais (n). Tais combinações são realizadas de forma que as variáveis novas, ou componentes principais, sejam não-correlacionados e o máximo de informações contida nas features originais estejam contidas nos primeiros componentes. Por exemplo, se um data set contem 20 variáveis, a combinação linear resultará em 10 componentes principais, porém a primeira consistirá com maior representatividade em termos de informação, a segunda com um pouco menos de informação e assim sucessivamente.\n",
    "\n",
    "Diante disso, o que dizer sobre a necessidade de normalizar ou padronizar os dados ? Bom, como descrito acima, o PCA está interessado em determinar os componentes que representam a máxima variância dos dados. Basicamente, o algoritmo calcula novas projeções dos dados baseado no desvio padrao das features - estas que afetam diretamente a matriz de covariância. Dessa forma, variáveis com grandes desvio padrão terão maior peso no cálculo da combinação linear.\n",
    "\n",
    "Ao normalizar ou padronizamos os dados, estamos fazendo com que todas as variáveis possuam pesos iguais e diminuindo a chance de termos auto-valores e auto-vetores diferentes dos que realmente representariam as informações corretas das nossas variáveis.\n",
    "\n",
    " **Resumindo, diante da análise, eu diria que é sim importante realizar esse preprocessamento antes de aplicar PCA. Particularmente, eu nunca vi uma aplicação desse algoritmo sem pelo menos colocar as variáveis em mesma escala. De qualquer forma, recomendo entender bem seus dados e verificar a necessidade de realizar alguns desses preprocessamento.**"
   ]
  },
  {
   "cell_type": "code",
   "execution_count": 32,
   "metadata": {},
   "outputs": [],
   "source": [
    "import pandas as pd\n",
    "import matplotlib.pyplot as plt\n",
    "import numpy as np"
   ]
  },
  {
   "cell_type": "code",
   "execution_count": 7,
   "metadata": {},
   "outputs": [
    {
     "data": {
      "text/plain": [
       "'Shape do dataframe:'"
      ]
     },
     "metadata": {},
     "output_type": "display_data"
    },
    {
     "data": {
      "text/plain": [
       "(18207, 89)"
      ]
     },
     "metadata": {},
     "output_type": "display_data"
    },
    {
     "name": "stdout",
     "output_type": "stream",
     "text": [
      "\n"
     ]
    },
    {
     "data": {
      "text/html": [
       "<div>\n",
       "<style scoped>\n",
       "    .dataframe tbody tr th:only-of-type {\n",
       "        vertical-align: middle;\n",
       "    }\n",
       "\n",
       "    .dataframe tbody tr th {\n",
       "        vertical-align: top;\n",
       "    }\n",
       "\n",
       "    .dataframe thead th {\n",
       "        text-align: right;\n",
       "    }\n",
       "</style>\n",
       "<table border=\"1\" class=\"dataframe\">\n",
       "  <thead>\n",
       "    <tr style=\"text-align: right;\">\n",
       "      <th></th>\n",
       "      <th>Unnamed: 0</th>\n",
       "      <th>ID</th>\n",
       "      <th>Name</th>\n",
       "      <th>Age</th>\n",
       "      <th>Photo</th>\n",
       "      <th>Nationality</th>\n",
       "      <th>Flag</th>\n",
       "      <th>Overall</th>\n",
       "      <th>Potential</th>\n",
       "      <th>Club</th>\n",
       "      <th>...</th>\n",
       "      <th>Composure</th>\n",
       "      <th>Marking</th>\n",
       "      <th>StandingTackle</th>\n",
       "      <th>SlidingTackle</th>\n",
       "      <th>GKDiving</th>\n",
       "      <th>GKHandling</th>\n",
       "      <th>GKKicking</th>\n",
       "      <th>GKPositioning</th>\n",
       "      <th>GKReflexes</th>\n",
       "      <th>Release Clause</th>\n",
       "    </tr>\n",
       "  </thead>\n",
       "  <tbody>\n",
       "    <tr>\n",
       "      <th>0</th>\n",
       "      <td>0</td>\n",
       "      <td>158023</td>\n",
       "      <td>L. Messi</td>\n",
       "      <td>31</td>\n",
       "      <td>https://cdn.sofifa.org/players/4/19/158023.png</td>\n",
       "      <td>Argentina</td>\n",
       "      <td>https://cdn.sofifa.org/flags/52.png</td>\n",
       "      <td>94</td>\n",
       "      <td>94</td>\n",
       "      <td>FC Barcelona</td>\n",
       "      <td>...</td>\n",
       "      <td>96.0</td>\n",
       "      <td>33.0</td>\n",
       "      <td>28.0</td>\n",
       "      <td>26.0</td>\n",
       "      <td>6.0</td>\n",
       "      <td>11.0</td>\n",
       "      <td>15.0</td>\n",
       "      <td>14.0</td>\n",
       "      <td>8.0</td>\n",
       "      <td>€226.5M</td>\n",
       "    </tr>\n",
       "    <tr>\n",
       "      <th>1</th>\n",
       "      <td>1</td>\n",
       "      <td>20801</td>\n",
       "      <td>Cristiano Ronaldo</td>\n",
       "      <td>33</td>\n",
       "      <td>https://cdn.sofifa.org/players/4/19/20801.png</td>\n",
       "      <td>Portugal</td>\n",
       "      <td>https://cdn.sofifa.org/flags/38.png</td>\n",
       "      <td>94</td>\n",
       "      <td>94</td>\n",
       "      <td>Juventus</td>\n",
       "      <td>...</td>\n",
       "      <td>95.0</td>\n",
       "      <td>28.0</td>\n",
       "      <td>31.0</td>\n",
       "      <td>23.0</td>\n",
       "      <td>7.0</td>\n",
       "      <td>11.0</td>\n",
       "      <td>15.0</td>\n",
       "      <td>14.0</td>\n",
       "      <td>11.0</td>\n",
       "      <td>€127.1M</td>\n",
       "    </tr>\n",
       "    <tr>\n",
       "      <th>2</th>\n",
       "      <td>2</td>\n",
       "      <td>190871</td>\n",
       "      <td>Neymar Jr</td>\n",
       "      <td>26</td>\n",
       "      <td>https://cdn.sofifa.org/players/4/19/190871.png</td>\n",
       "      <td>Brazil</td>\n",
       "      <td>https://cdn.sofifa.org/flags/54.png</td>\n",
       "      <td>92</td>\n",
       "      <td>93</td>\n",
       "      <td>Paris Saint-Germain</td>\n",
       "      <td>...</td>\n",
       "      <td>94.0</td>\n",
       "      <td>27.0</td>\n",
       "      <td>24.0</td>\n",
       "      <td>33.0</td>\n",
       "      <td>9.0</td>\n",
       "      <td>9.0</td>\n",
       "      <td>15.0</td>\n",
       "      <td>15.0</td>\n",
       "      <td>11.0</td>\n",
       "      <td>€228.1M</td>\n",
       "    </tr>\n",
       "  </tbody>\n",
       "</table>\n",
       "<p>3 rows × 89 columns</p>\n",
       "</div>"
      ],
      "text/plain": [
       "   Unnamed: 0      ID               Name  Age  \\\n",
       "0           0  158023           L. Messi   31   \n",
       "1           1   20801  Cristiano Ronaldo   33   \n",
       "2           2  190871          Neymar Jr   26   \n",
       "\n",
       "                                            Photo Nationality  \\\n",
       "0  https://cdn.sofifa.org/players/4/19/158023.png   Argentina   \n",
       "1   https://cdn.sofifa.org/players/4/19/20801.png    Portugal   \n",
       "2  https://cdn.sofifa.org/players/4/19/190871.png      Brazil   \n",
       "\n",
       "                                  Flag  Overall  Potential  \\\n",
       "0  https://cdn.sofifa.org/flags/52.png       94         94   \n",
       "1  https://cdn.sofifa.org/flags/38.png       94         94   \n",
       "2  https://cdn.sofifa.org/flags/54.png       92         93   \n",
       "\n",
       "                  Club  ... Composure Marking StandingTackle  SlidingTackle  \\\n",
       "0         FC Barcelona  ...      96.0    33.0           28.0           26.0   \n",
       "1             Juventus  ...      95.0    28.0           31.0           23.0   \n",
       "2  Paris Saint-Germain  ...      94.0    27.0           24.0           33.0   \n",
       "\n",
       "  GKDiving  GKHandling  GKKicking  GKPositioning GKReflexes Release Clause  \n",
       "0      6.0        11.0       15.0           14.0        8.0        €226.5M  \n",
       "1      7.0        11.0       15.0           14.0       11.0        €127.1M  \n",
       "2      9.0         9.0       15.0           15.0       11.0        €228.1M  \n",
       "\n",
       "[3 rows x 89 columns]"
      ]
     },
     "execution_count": 7,
     "metadata": {},
     "output_type": "execute_result"
    }
   ],
   "source": [
    "df = pd.read_csv(\"fifa.csv\")\n",
    "display(\"Shape do dataframe:\", df.shape)\n",
    "print()\n",
    "df.head(3)"
   ]
  },
  {
   "cell_type": "code",
   "execution_count": 13,
   "metadata": {},
   "outputs": [
    {
     "name": "stdout",
     "output_type": "stream",
     "text": [
      "Shape do dataframe depois de dropar as colunas: (18207, 37)\n"
     ]
    }
   ],
   "source": [
    "columns_to_drop = [\"Unnamed: 0\", \"ID\", \"Name\", \"Photo\", \"Nationality\", \"Flag\",\n",
    "                   \"Club\", \"Club Logo\", \"Value\", \"Wage\", \"Special\", \"Preferred Foot\",\n",
    "                   \"International Reputation\", \"Weak Foot\", \"Skill Moves\", \"Work Rate\",\n",
    "                   \"Body Type\", \"Real Face\", \"Position\", \"Jersey Number\", \"Joined\",\n",
    "                   \"Loaned From\", \"Contract Valid Until\", \"Height\", \"Weight\", \"LS\",\n",
    "                   \"ST\", \"RS\", \"LW\", \"LF\", \"CF\", \"RF\", \"RW\", \"LAM\", \"CAM\", \"RAM\", \"LM\",\n",
    "                   \"LCM\", \"CM\", \"RCM\", \"RM\", \"LWB\", \"LDM\", \"CDM\", \"RDM\", \"RWB\", \"LB\", \"LCB\",\n",
    "                   \"CB\", \"RCB\", \"RB\", \"Release Clause\"\n",
    "]\n",
    "\n",
    "df.drop(columns_to_drop, axis=1, inplace=True)\n",
    "\n",
    "print(\"Shape do dataframe depois de dropar as colunas:\", df.shape)"
   ]
  },
  {
   "cell_type": "markdown",
   "metadata": {},
   "source": [
    "## Missing Values"
   ]
  },
  {
   "cell_type": "code",
   "execution_count": 25,
   "metadata": {},
   "outputs": [
    {
     "data": {
      "text/plain": [
       "<matplotlib.axes._subplots.AxesSubplot at 0x7f23790d6be0>"
      ]
     },
     "execution_count": 25,
     "metadata": {},
     "output_type": "execute_result"
    },
    {
     "data": {
      "image/png": "[encoded data removed]",
      "text/plain": [
       "<Figure size 576x648 with 1 Axes>"
      ]
     },
     "metadata": {
      "needs_background": "light"
     },
     "output_type": "display_data"
    }
   ],
   "source": [
    "plt.title('Missing Values')\n",
    "df.isnull().sum().plot(kind = 'barh',figsize = (8,9))"
   ]
  },
  {
   "cell_type": "code",
   "execution_count": 26,
   "metadata": {},
   "outputs": [],
   "source": [
    "#Drop missing values\n",
    "df.dropna(inplace = True)"
   ]
  },
  {
   "cell_type": "markdown",
   "metadata": {},
   "source": [
    "# data Scaling "
   ]
  },
  {
   "cell_type": "code",
   "execution_count": 27,
   "metadata": {},
   "outputs": [
    {
     "data": {
      "text/plain": [
       "array([[ 1.25844069,  4.01336435,  3.69741542, ..., -0.07465947,\n",
       "        -0.14024128, -0.48516121],\n",
       "       [ 1.68666591,  4.01336435,  3.69741542, ..., -0.07465947,\n",
       "        -0.14024128, -0.31807333],\n",
       "       [ 0.18787765,  3.72411387,  3.53439634, ..., -0.07465947,\n",
       "        -0.08153585, -0.31807333],\n",
       "       ...,\n",
       "       [-1.95324843, -2.78402193, -0.70409989, ..., -0.37764552,\n",
       "        -0.6098847 , -0.20668142],\n",
       "       [-1.73913582, -2.78402193, -0.86711898, ..., -0.13525668,\n",
       "        -0.49247385, -0.42946525],\n",
       "       [-1.95324843, -2.92864717, -0.86711898, ..., -0.43824273,\n",
       "        -0.25765214, -0.42946525]])"
      ]
     },
     "execution_count": 27,
     "metadata": {},
     "output_type": "execute_result"
    }
   ],
   "source": [
    "from sklearn.preprocessing import StandardScaler\n",
    "\n",
    "scaler = StandardScaler()\n",
    "scaled_fifa = scaler.fit_transform(df.astype(float))\n",
    "scaled_fifa"
   ]
  },
  {
   "cell_type": "code",
   "execution_count": 28,
   "metadata": {},
   "outputs": [
    {
     "data": {
      "text/html": [
       "<div>\n",
       "<style scoped>\n",
       "    .dataframe tbody tr th:only-of-type {\n",
       "        vertical-align: middle;\n",
       "    }\n",
       "\n",
       "    .dataframe tbody tr th {\n",
       "        vertical-align: top;\n",
       "    }\n",
       "\n",
       "    .dataframe thead th {\n",
       "        text-align: right;\n",
       "    }\n",
       "</style>\n",
       "<table border=\"1\" class=\"dataframe\">\n",
       "  <thead>\n",
       "    <tr style=\"text-align: right;\">\n",
       "      <th></th>\n",
       "      <th>Age</th>\n",
       "      <th>Overall</th>\n",
       "      <th>Potential</th>\n",
       "      <th>Crossing</th>\n",
       "      <th>Finishing</th>\n",
       "      <th>HeadingAccuracy</th>\n",
       "      <th>ShortPassing</th>\n",
       "      <th>Volleys</th>\n",
       "      <th>Dribbling</th>\n",
       "      <th>Curve</th>\n",
       "      <th>...</th>\n",
       "      <th>Penalties</th>\n",
       "      <th>Composure</th>\n",
       "      <th>Marking</th>\n",
       "      <th>StandingTackle</th>\n",
       "      <th>SlidingTackle</th>\n",
       "      <th>GKDiving</th>\n",
       "      <th>GKHandling</th>\n",
       "      <th>GKKicking</th>\n",
       "      <th>GKPositioning</th>\n",
       "      <th>GKReflexes</th>\n",
       "    </tr>\n",
       "  </thead>\n",
       "  <tbody>\n",
       "    <tr>\n",
       "      <th>0</th>\n",
       "      <td>1.258441</td>\n",
       "      <td>4.013364</td>\n",
       "      <td>3.697415</td>\n",
       "      <td>1.865922</td>\n",
       "      <td>2.532567</td>\n",
       "      <td>1.018552</td>\n",
       "      <td>2.130287</td>\n",
       "      <td>2.435355</td>\n",
       "      <td>2.201445</td>\n",
       "      <td>2.491426</td>\n",
       "      <td>...</td>\n",
       "      <td>1.684414</td>\n",
       "      <td>3.266205</td>\n",
       "      <td>-0.717531</td>\n",
       "      <td>-0.909268</td>\n",
       "      <td>-0.923569</td>\n",
       "      <td>-0.599961</td>\n",
       "      <td>-0.318908</td>\n",
       "      <td>-0.074659</td>\n",
       "      <td>-0.140241</td>\n",
       "      <td>-0.485161</td>\n",
       "    </tr>\n",
       "    <tr>\n",
       "      <th>1</th>\n",
       "      <td>1.686666</td>\n",
       "      <td>4.013364</td>\n",
       "      <td>3.697415</td>\n",
       "      <td>1.865922</td>\n",
       "      <td>2.481351</td>\n",
       "      <td>2.111799</td>\n",
       "      <td>1.518005</td>\n",
       "      <td>2.491871</td>\n",
       "      <td>1.725503</td>\n",
       "      <td>1.839066</td>\n",
       "      <td>...</td>\n",
       "      <td>2.321210</td>\n",
       "      <td>3.178760</td>\n",
       "      <td>-0.968738</td>\n",
       "      <td>-0.770785</td>\n",
       "      <td>-1.064489</td>\n",
       "      <td>-0.543447</td>\n",
       "      <td>-0.318908</td>\n",
       "      <td>-0.074659</td>\n",
       "      <td>-0.140241</td>\n",
       "      <td>-0.318073</td>\n",
       "    </tr>\n",
       "    <tr>\n",
       "      <th>2</th>\n",
       "      <td>0.187878</td>\n",
       "      <td>3.724114</td>\n",
       "      <td>3.534396</td>\n",
       "      <td>1.593650</td>\n",
       "      <td>2.122842</td>\n",
       "      <td>0.558238</td>\n",
       "      <td>1.722099</td>\n",
       "      <td>2.322322</td>\n",
       "      <td>2.148563</td>\n",
       "      <td>2.219609</td>\n",
       "      <td>...</td>\n",
       "      <td>2.066492</td>\n",
       "      <td>3.091316</td>\n",
       "      <td>-1.018980</td>\n",
       "      <td>-1.093911</td>\n",
       "      <td>-0.594753</td>\n",
       "      <td>-0.430420</td>\n",
       "      <td>-0.437206</td>\n",
       "      <td>-0.074659</td>\n",
       "      <td>-0.081536</td>\n",
       "      <td>-0.318073</td>\n",
       "    </tr>\n",
       "    <tr>\n",
       "      <th>3</th>\n",
       "      <td>0.401990</td>\n",
       "      <td>3.579489</td>\n",
       "      <td>3.534396</td>\n",
       "      <td>-1.782517</td>\n",
       "      <td>-1.667116</td>\n",
       "      <td>-1.800873</td>\n",
       "      <td>-0.590969</td>\n",
       "      <td>-1.690356</td>\n",
       "      <td>-1.976272</td>\n",
       "      <td>-1.422733</td>\n",
       "      <td>...</td>\n",
       "      <td>-0.544371</td>\n",
       "      <td>0.817758</td>\n",
       "      <td>-1.621878</td>\n",
       "      <td>-1.232393</td>\n",
       "      <td>-1.534226</td>\n",
       "      <td>4.147180</td>\n",
       "      <td>4.058124</td>\n",
       "      <td>4.288340</td>\n",
       "      <td>4.203960</td>\n",
       "      <td>4.304691</td>\n",
       "    </tr>\n",
       "    <tr>\n",
       "      <th>4</th>\n",
       "      <td>0.401990</td>\n",
       "      <td>3.579489</td>\n",
       "      <td>3.371377</td>\n",
       "      <td>2.356010</td>\n",
       "      <td>1.866764</td>\n",
       "      <td>0.155463</td>\n",
       "      <td>2.266350</td>\n",
       "      <td>2.209288</td>\n",
       "      <td>1.619738</td>\n",
       "      <td>2.056519</td>\n",
       "      <td>...</td>\n",
       "      <td>1.939132</td>\n",
       "      <td>2.566649</td>\n",
       "      <td>1.040923</td>\n",
       "      <td>0.475556</td>\n",
       "      <td>0.250772</td>\n",
       "      <td>-0.091339</td>\n",
       "      <td>-0.200610</td>\n",
       "      <td>-0.680632</td>\n",
       "      <td>-0.375063</td>\n",
       "      <td>-0.206681</td>\n",
       "    </tr>\n",
       "  </tbody>\n",
       "</table>\n",
       "<p>5 rows × 37 columns</p>\n",
       "</div>"
      ],
      "text/plain": [
       "        Age   Overall  Potential  Crossing  Finishing  HeadingAccuracy  \\\n",
       "0  1.258441  4.013364   3.697415  1.865922   2.532567         1.018552   \n",
       "1  1.686666  4.013364   3.697415  1.865922   2.481351         2.111799   \n",
       "2  0.187878  3.724114   3.534396  1.593650   2.122842         0.558238   \n",
       "3  0.401990  3.579489   3.534396 -1.782517  -1.667116        -1.800873   \n",
       "4  0.401990  3.579489   3.371377  2.356010   1.866764         0.155463   \n",
       "\n",
       "   ShortPassing   Volleys  Dribbling     Curve  ...  Penalties  Composure  \\\n",
       "0      2.130287  2.435355   2.201445  2.491426  ...   1.684414   3.266205   \n",
       "1      1.518005  2.491871   1.725503  1.839066  ...   2.321210   3.178760   \n",
       "2      1.722099  2.322322   2.148563  2.219609  ...   2.066492   3.091316   \n",
       "3     -0.590969 -1.690356  -1.976272 -1.422733  ...  -0.544371   0.817758   \n",
       "4      2.266350  2.209288   1.619738  2.056519  ...   1.939132   2.566649   \n",
       "\n",
       "    Marking  StandingTackle  SlidingTackle  GKDiving  GKHandling  GKKicking  \\\n",
       "0 -0.717531       -0.909268      -0.923569 -0.599961   -0.318908  -0.074659   \n",
       "1 -0.968738       -0.770785      -1.064489 -0.543447   -0.318908  -0.074659   \n",
       "2 -1.018980       -1.093911      -0.594753 -0.430420   -0.437206  -0.074659   \n",
       "3 -1.621878       -1.232393      -1.534226  4.147180    4.058124   4.288340   \n",
       "4  1.040923        0.475556       0.250772 -0.091339   -0.200610  -0.680632   \n",
       "\n",
       "   GKPositioning  GKReflexes  \n",
       "0      -0.140241   -0.485161  \n",
       "1      -0.140241   -0.318073  \n",
       "2      -0.081536   -0.318073  \n",
       "3       4.203960    4.304691  \n",
       "4      -0.375063   -0.206681  \n",
       "\n",
       "[5 rows x 37 columns]"
      ]
     },
     "execution_count": 28,
     "metadata": {},
     "output_type": "execute_result"
    }
   ],
   "source": [
    "# scaled dataframe\n",
    "df_scaled = pd.DataFrame( data = scaled_fifa,\n",
    "                        index = df.index ,\n",
    "                        columns = df.columns)\n",
    "\n",
    "df_scaled.head()"
   ]
  },
  {
   "cell_type": "code",
   "execution_count": 29,
   "metadata": {},
   "outputs": [
    {
     "name": "stdout",
     "output_type": "stream",
     "text": [
      "Shape of df: (18159, 37)\n",
      "\n",
      "Shape of scaled_df (18159, 37)\n",
      "\n"
     ]
    }
   ],
   "source": [
    "print('Shape of df:', df.shape)\n",
    "print()\n",
    "print('Shape of scaled_df', df_scaled.shape)\n",
    "print()\n"
   ]
  },
  {
   "cell_type": "markdown",
   "metadata": {},
   "source": [
    "Agora que padronizamos o dataframe, podemos aplicar a redução de dimensionalidade. Para realizar tal tarefa, iremos utilizar o PCA para achar os vetores de máxima variância dos dados. Para iniciar, iremos manter todas as features do dataframe para que,dessa forma, a gente consiga verificar a real tendência de variabilidade nos nossos dados. Plotaremos então um gráfico mostrando a taxa dec variância explicada por cada componente e a variância cumulativa. So então, depois disso, iremos selecionar os número de variáveis transformadas nos iresmos utilizar na redução da dimensionalidadec. \n"
   ]
  },
  {
   "cell_type": "code",
   "execution_count": 30,
   "metadata": {},
   "outputs": [
    {
     "data": {
      "text/plain": [
       "array([[-8.97775105e+00, -5.06169855e+00,  5.85188459e+00, ...,\n",
       "        -1.06049515e-01,  3.58835740e-02,  3.42447495e-04],\n",
       "       [-8.76714190e+00, -3.40788914e+00,  6.40047060e+00, ...,\n",
       "        -1.05819411e-01,  1.15416438e-01,  2.03510581e-01],\n",
       "       [-8.19274477e+00, -4.84676052e+00,  4.92967087e+00, ...,\n",
       "        -2.90784144e-01,  7.61696698e-02, -4.07151972e-01],\n",
       "       ...,\n",
       "       [ 3.28352323e+00, -2.76073220e+00, -4.61496103e+00, ...,\n",
       "        -7.87287552e-02,  2.83067914e-01,  7.67103556e-02],\n",
       "       [ 3.19988724e+00, -2.69278331e+00, -5.13604517e+00, ...,\n",
       "        -1.22254748e-01, -1.65204460e-01, -8.92948115e-02],\n",
       "       [ 2.78282512e+00,  4.34621532e-01, -3.55707072e+00, ...,\n",
       "         1.45971208e-01, -5.62946996e-03, -2.18665181e-01]])"
      ]
     },
     "execution_count": 30,
     "metadata": {},
     "output_type": "execute_result"
    }
   ],
   "source": [
    "from sklearn.decomposition import PCA\n",
    "pca = PCA()\n",
    "\n",
    "pca_array = pca.fit_transform(df_scaled)\n",
    "pca_array"
   ]
  },
  {
   "cell_type": "code",
   "execution_count": 33,
   "metadata": {},
   "outputs": [
    {
     "data": {
      "text/plain": [
       "array([51.7, 65. , 74.8, 79.7, 83.4, 86.6, 88.3, 89.5, 90.5, 91.3, 92. ,\n",
       "       92.7, 93.3, 93.9, 94.5, 95. , 95.5, 96. , 96.4, 96.8, 97.1, 97.4,\n",
       "       97.7, 98. , 98.2, 98.4, 98.6, 98.8, 99. , 99.2, 99.3, 99.4, 99.5,\n",
       "       99.6, 99.7, 99.8, 99.9])"
      ]
     },
     "metadata": {},
     "output_type": "display_data"
    }
   ],
   "source": [
    "# Investigate the variance explained by each principal component\n",
    "var = pca.explained_variance_ratio_\n",
    "\n",
    "# number of total components\n",
    "n_components = len(pca.explained_variance_ratio_)\n",
    "\n",
    "\n",
    "cumulative_sum_var = np.cumsum(np.round(pca.explained_variance_ratio_, decimals = 3)*100)\n",
    "display(cumulative_sum_var[:100])"
   ]
  },
  {
   "cell_type": "code",
   "execution_count": 34,
   "metadata": {},
   "outputs": [],
   "source": [
    "def pca_analysis_plot(n_conponents, index, var_values, cum_sum):\n",
    "    \n",
    "    '''\n",
    "    Plot graphs for PCA analysis (cumulative variance x number of components and percentage of variance explained x \n",
    "    number of components)\n",
    "     \n",
    "    ARG:\n",
    "    n_components (integer): number of components\n",
    "    index (array) : array with the same number of components \n",
    "    var_values(array): variance explained by the components\n",
    "    cum_sum(array): cumulative variance explained\n",
    "    '''\n",
    "    \n",
    "    \n",
    "    # Frist Plot\n",
    "    plt.figure(figsize=(13,15))\n",
    "    plt.subplot(2, 1, 1)\n",
    "    plt.bar(index, cum_sum,color = 'lightsteelblue')\n",
    "    plt.ylabel('Cumulative Explaiden Variance (%)')\n",
    "    plt.xlabel('Number of Principal Components')\n",
    "    plt.xticks(np.linspace(0,40, 10, endpoint=False))\n",
    "    #plt.yticks(np.linspace(0,100, 5, endpoint= True))\n",
    "    plt.title('PCA Analysis Graph')\n",
    "\n",
    "\n",
    "    # 196 components\n",
    "    plt.hlines(y=93, xmin=0, xmax=12, color='black', linestyles='-',zorder=5)\n",
    "    plt.vlines(x=12, ymin=0, ymax=93, color='black', linestyles='-',zorder=6)\n",
    "\n",
    "\n",
    "    #Second Plot\n",
    "    plt.subplot(2, 1, 2)\n",
    "    plt.bar(index, values,color = 'lightsteelblue')\n",
    "    plt.xticks(np.linspace(0,40, 10, endpoint=False))\n",
    "    plt.xlabel('Number of Principal Components')\n",
    "    plt.ylabel(' Variance Explained (%)')\n",
    "    plt.title('PCA Analysis Graph');"
   ]
  },
  {
   "cell_type": "code",
   "execution_count": 35,
   "metadata": {},
   "outputs": [
    {
     "data": {
      "image/png": "[encoded data removed]",
      "text/plain": [
       "<Figure size 936x1080 with 2 Axes>"
      ]
     },
     "metadata": {
      "needs_background": "light"
     },
     "output_type": "display_data"
    }
   ],
   "source": [
    "index = np.arange(n_components)\n",
    "values = pca.explained_variance_ratio_\n",
    "pca_analysis_plot(n_conponents= n_components, \n",
    "             index= index, \n",
    "             var_values = values,#\n",
    "             cum_sum = cumulative_sum_var)"
   ]
  },
  {
   "cell_type": "code",
   "execution_count": null,
   "metadata": {},
   "outputs": [],
   "source": []
  }
 ],
 "metadata": {
  "kernelspec": {
   "display_name": "Python 3",
   "language": "python",
   "name": "python3"
  },
  "language_info": {
   "codemirror_mode": {
    "name": "ipython",
    "version": 3
   },
   "file_extension": ".py",
   "mimetype": "text/x-python",
   "name": "python",
   "nbconvert_exporter": "python",
   "pygments_lexer": "ipython3",
   "version": "3.7.3"
  }
 },
 "nbformat": 4,
 "nbformat_minor": 4
}
